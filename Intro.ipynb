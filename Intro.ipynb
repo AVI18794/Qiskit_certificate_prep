{
 "cells": [
  {
   "cell_type": "markdown",
   "id": "2bb8a79f",
   "metadata": {},
   "source": [
    "# A Workbook for Qiskit Developer Certification\n",
    "\n",
    "Hello everyone! This is Bartu, a fellow Qiskitter. I have recently taken the Certification exam and have followed the excellent [study guide](https://slides.com/javafxpert/prep-qiskit-dev-cert-exam) by James Weaver, which also goes over the sample exam, so make sure to check it out if you haven't already!\n",
    "\n",
    "While following the guide, I wanted to re-create examples from all specified topics on my own in an organized way to make connections easier. After completing the exam and getting my badge, I thought, hey, why not make this public? Maybe someone else will also find it useful! So this is basically what this workbook is about and I do hope that you get something out of it. \n",
    "\n",
    "**Important Notes:** \n",
    "\n",
    "1- This has been prepared in IBMQ Experience so you might want to use that instead of your local environment for avoiding conflicting versions and access to all widgets easily etc. \n",
    "\n",
    "2-I have tried to mix up many variations of doing the same thing for demonstrating, but probably inescapably missed some things, so I do advise you also check for that in the study guide and the Qiskit documentation after you go through this Workbook if you want to expand your knowledge :) \n",
    "\n",
    "3-Also, no info has been given on how gates work or what is a q-sphere etc. assuming the reader is already familiar with these material! This workbook was simply prepared with the intention of being exposed to all the materials covered in the exam as rapidly as possible while also remaining clear.\n",
    "\n",
    "**Rough Guidline:** I intentionally didn't break this into sections explicitly to keep the feeling of flow I felt when writing these, and I think it is best to just go through all in one sitting. To avoid (en)tangling, I tried to comment on the code as much as I can, as well as creating some titles inside the code. Do let me know if you think writing a *Contents* explicitly for it would be beneficial :) You can contact me through Qiskit Slack (bartubisgin) or LinkedIn.\n",
    "\n",
    "Here are the subjects you will be presented with, in the exam:\n",
    "![Web%20capture_16-7-2021_195843_slides.com.jpeg](attachment:Web%20capture_16-7-2021_195843_slides.com.jpeg)\n",
    "Credit: [IBM Quantum](https://www.ibm.com/certify/exam?id=C1000-112)"
   ]
  },
  {
   "cell_type": "code",
   "execution_count": null,
   "id": "a222ece9",
   "metadata": {},
   "outputs": [],
   "source": []
  }
 ],
 "metadata": {
  "kernelspec": {
   "display_name": "Python 3 (ipykernel)",
   "language": "python",
   "name": "python3"
  },
  "language_info": {
   "codemirror_mode": {
    "name": "ipython",
    "version": 3
   },
   "file_extension": ".py",
   "mimetype": "text/x-python",
   "name": "python",
   "nbconvert_exporter": "python",
   "pygments_lexer": "ipython3",
   "version": "3.8.10"
  }
 },
 "nbformat": 4,
 "nbformat_minor": 5
}
