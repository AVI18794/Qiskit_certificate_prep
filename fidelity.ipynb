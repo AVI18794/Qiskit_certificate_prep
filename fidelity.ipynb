{
 "cells": [
  {
   "cell_type": "markdown",
   "id": "e603857c",
   "metadata": {},
   "source": [
    "# Fidelity"
   ]
  },
  {
   "cell_type": "markdown",
   "id": "2055d62a",
   "metadata": {},
   "source": [
    "### For Gates"
   ]
  },
  {
   "cell_type": "code",
   "execution_count": 20,
   "id": "d22654c9",
   "metadata": {},
   "outputs": [],
   "source": [
    "import numpy as np\n",
    "from qiskit import QuantumCircuit, BasicAer, execute\n",
    "from qiskit.circuit.library import XGate\n",
    "from qiskit.quantum_info import Operator, average_gate_fidelity, process_fidelity, state_fidelity\n"
   ]
  },
  {
   "cell_type": "code",
   "execution_count": 21,
   "id": "04ffb84a",
   "metadata": {},
   "outputs": [
    {
     "data": {
      "text/plain": [
       "1.0"
      ]
     },
     "execution_count": 21,
     "metadata": {},
     "output_type": "execute_result"
    }
   ],
   "source": [
    "op_a = Operator(XGate())\n",
    "op_b = np.exp(1j / 2) * op_a\n",
    "average_gate_fidelity(op_a,op_b)"
   ]
  },
  {
   "cell_type": "markdown",
   "id": "3cd46a83",
   "metadata": {},
   "source": [
    "### For States\n"
   ]
  },
  {
   "cell_type": "code",
   "execution_count": 22,
   "id": "39c34761",
   "metadata": {},
   "outputs": [
    {
     "data": {
      "image/png": "[encoded data removed]",
      "text/plain": [
       "<Figure size 193.726x84.28 with 1 Axes>"
      ]
     },
     "execution_count": 22,
     "metadata": {},
     "output_type": "execute_result"
    }
   ],
   "source": [
    "a = 1/np.sqrt(3) #we can define a state ourselves, we could also get a random state, check the docs!\n",
    "desired_state = [a,np.sqrt(1-a**2)] #state is defined such that it is a valid one!\n",
    "\n",
    "qc = QuantumCircuit(1)\n",
    "qc.initialize(desired_state,0) #as simple as this!\n",
    "qc.draw('mpl')"
   ]
  },
  {
   "cell_type": "code",
   "execution_count": 24,
   "id": "dac9b633",
   "metadata": {},
   "outputs": [],
   "source": [
    "back_sv = BasicAer.get_backend('statevector_simulator')\n",
    "result = execute(qc, back_sv).result()\n",
    "qc_sv = result.get_statevector(qc)"
   ]
  },
  {
   "cell_type": "code",
   "execution_count": 25,
   "id": "32631434",
   "metadata": {},
   "outputs": [
    {
     "data": {
      "text/plain": [
       "1.0"
      ]
     },
     "execution_count": 25,
     "metadata": {},
     "output_type": "execute_result"
    }
   ],
   "source": [
    "state_fidelity(desired_state, qc_sv) "
   ]
  },
  {
   "cell_type": "code",
   "execution_count": null,
   "id": "7b80db2a",
   "metadata": {},
   "outputs": [],
   "source": []
  }
 ],
 "metadata": {
  "kernelspec": {
   "display_name": "Python 3 (ipykernel)",
   "language": "python",
   "name": "python3"
  },
  "language_info": {
   "codemirror_mode": {
    "name": "ipython",
    "version": 3
   },
   "file_extension": ".py",
   "mimetype": "text/x-python",
   "name": "python",
   "nbconvert_exporter": "python",
   "pygments_lexer": "ipython3",
   "version": "3.8.10"
  }
 },
 "nbformat": 4,
 "nbformat_minor": 5
}
