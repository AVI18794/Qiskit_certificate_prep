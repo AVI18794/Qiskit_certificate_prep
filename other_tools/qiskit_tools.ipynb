{
 "cells": [
  {
   "cell_type": "markdown",
   "id": "45756b25",
   "metadata": {},
   "source": [
    "# Qiskit Tools\n",
    "\n",
    "In this notebook, we will present some general tools and how to retrieve some information that might be useful when programming with Qiskit.z"
   ]
  },
  {
   "cell_type": "code",
   "execution_count": 1,
   "id": "6b59cde4",
   "metadata": {},
   "outputs": [],
   "source": [
    "from qiskit import IBMQ, BasicAer, QuantumCircuit, execute\n",
    "import qiskit.tools.jupyter \n",
    "from qiskit.tools import job_monitor\n",
    "from qiskit.visualization import plot_gate_map, plot_error_map\n",
    "from qiskit.providers.ibmq import least_busy\n",
    "\n",
    "provider = IBMQ.load_account()"
   ]
  },
  {
   "cell_type": "markdown",
   "id": "88463eb4",
   "metadata": {},
   "source": [
    "## Retrieving some information\n",
    "\n",
    " <b> 1. the complete information about the version of Qiskit we have installed, as well as information about our own GPU is obtained in table format by  <b>"
   ]
  },
  {
   "cell_type": "code",
   "execution_count": 2,
   "id": "826f6e7c",
   "metadata": {},
   "outputs": [
    {
     "data": {
      "text/html": [
       "<h3>Version Information</h3><table><tr><th>Qiskit Software</th><th>Version</th></tr><tr><td><code>qiskit-terra</code></td><td>0.19.2</td></tr><tr><td><code>qiskit-aer</code></td><td>0.10.3</td></tr><tr><td><code>qiskit-ignis</code></td><td>0.7.0</td></tr><tr><td><code>qiskit-ibmq-provider</code></td><td>0.18.3</td></tr><tr><td><code>qiskit</code></td><td>0.34.2</td></tr><tr><td><code>qiskit-nature</code></td><td>0.3.1</td></tr><tr><td><code>qiskit-finance</code></td><td>0.3.1</td></tr><tr><td><code>qiskit-optimization</code></td><td>0.3.1</td></tr><tr><td><code>qiskit-machine-learning</code></td><td>0.3.1</td></tr><tr><th>System information</th></tr><tr><td>Python version</td><td>3.8.10</td></tr><tr><td>Python compiler</td><td>GCC 9.4.0</td></tr><tr><td>Python build</td><td>default, Mar 15 2022 12:22:08</td></tr><tr><td>OS</td><td>Linux</td></tr><tr><td>CPUs</td><td>2</td></tr><tr><td>Memory (Gb)</td><td>7.699375152587891</td></tr><tr><td colspan='2'>Sun Jun 26 20:49:04 2022 CEST</td></tr></table>"
      ],
      "text/plain": [
       "<IPython.core.display.HTML object>"
      ]
     },
     "metadata": {},
     "output_type": "display_data"
    }
   ],
   "source": [
    "%qiskit_version_table"
   ]
  },
  {
   "cell_type": "markdown",
   "id": "e6e2acc0",
   "metadata": {},
   "source": [
    " <b> 2.  Also all the qiskit versions above is also obtainable in _text_ format  <b>"
   ]
  },
  {
   "cell_type": "code",
   "execution_count": 3,
   "id": "86e4c785",
   "metadata": {},
   "outputs": [
    {
     "name": "stdout",
     "output_type": "stream",
     "text": [
      "{'qiskit-terra': '0.19.2', 'qiskit-aer': '0.10.3', 'qiskit-ignis': '0.7.0', 'qiskit-ibmq-provider': '0.18.3', 'qiskit-aqua': None, 'qiskit': '0.34.2', 'qiskit-nature': '0.3.1', 'qiskit-finance': '0.3.1', 'qiskit-optimization': '0.3.1', 'qiskit-machine-learning': '0.3.1'}\n"
     ]
    }
   ],
   "source": [
    "print(qiskit.__qiskit_version__)"
   ]
  },
  {
   "cell_type": "markdown",
   "id": "7b74e043",
   "metadata": {},
   "source": [
    " <b> 3. Note, if only qiskit terra version is needed, we use  <b>"
   ]
  },
  {
   "cell_type": "code",
   "execution_count": 4,
   "id": "1ddd595d",
   "metadata": {},
   "outputs": [
    {
     "name": "stdout",
     "output_type": "stream",
     "text": [
      "0.19.2\n"
     ]
    }
   ],
   "source": [
    "## qiskit terra version\n",
    "\n",
    "print(qiskit.__version__) "
   ]
  },
  {
   "cell_type": "markdown",
   "id": "e30ab4a4",
   "metadata": {},
   "source": [
    " <b> 4. Qiskit copyright  <b>"
   ]
  },
  {
   "cell_type": "code",
   "execution_count": 5,
   "id": "d94f5bbe",
   "metadata": {},
   "outputs": [
    {
     "data": {
      "text/html": [
       "<div style='width: 100%; background-color:#d5d9e0;padding-left: 10px; padding-bottom: 10px; padding-right: 10px; padding-top: 5px'><h3>This code is a part of Qiskit</h3><p>&copy; Copyright IBM 2017, 2022.</p><p>This code is licensed under the Apache License, Version 2.0. You may<br>obtain a copy of this license in the LICENSE.txt file in the root directory<br> of this source tree or at http://www.apache.org/licenses/LICENSE-2.0.<p>Any modifications or derivative works of this code must retain this<br>copyright notice, and modified files need to carry a notice indicating<br>that they have been altered from the originals.</p></div>"
      ],
      "text/plain": [
       "<IPython.core.display.HTML object>"
      ]
     },
     "metadata": {},
     "output_type": "display_data"
    }
   ],
   "source": [
    "%qiskit_copyright"
   ]
  },
  {
   "cell_type": "markdown",
   "id": "188e6de2",
   "metadata": {},
   "source": [
    " <b> 5. Which backends are avaialable in simulators is also retrievable  <b>"
   ]
  },
  {
   "cell_type": "code",
   "execution_count": 6,
   "id": "d0be9977",
   "metadata": {},
   "outputs": [
    {
     "data": {
      "text/plain": [
       "[<QasmSimulatorPy('qasm_simulator')>,\n",
       " <StatevectorSimulatorPy('statevector_simulator')>,\n",
       " <UnitarySimulatorPy('unitary_simulator')>]"
      ]
     },
     "execution_count": 6,
     "metadata": {},
     "output_type": "execute_result"
    }
   ],
   "source": [
    "BasicAer.backends()\n",
    "\n",
    "# It works also for other simulators such as: Aer.backends()"
   ]
  },
  {
   "cell_type": "markdown",
   "id": "558c1b37",
   "metadata": {},
   "source": [
    "<b> 6. By the way, not only simulators, but you can also take a look at real backends that are available for free from IBM at the moment. This is very useful, for example, to know how many jobs are running in each machine <b>"
   ]
  },
  {
   "cell_type": "code",
   "execution_count": 7,
   "id": "caa7ea65",
   "metadata": {},
   "outputs": [
    {
     "data": {
      "application/vnd.jupyter.widget-view+json": {
       "model_id": "1120ce30555940308303f937956ebf63",
       "version_major": 2,
       "version_minor": 0
      },
      "text/plain": [
       "VBox(children=(HTML(value=\"<h2 style ='color:#ffffff; background-color:#000000;padding-top: 1%; padding-bottom…"
      ]
     },
     "metadata": {},
     "output_type": "display_data"
    }
   ],
   "source": [
    "%qiskit_backend_overview"
   ]
  },
  {
   "cell_type": "markdown",
   "id": "a0aaf68d",
   "metadata": {},
   "source": [
    "<b> 6. the least busy backend among other config. preferences can be also selected directly by <b>"
   ]
  },
  {
   "cell_type": "code",
   "execution_count": 8,
   "id": "62598410",
   "metadata": {},
   "outputs": [
    {
     "name": "stdout",
     "output_type": "stream",
     "text": [
      "ibm_oslo\n"
     ]
    }
   ],
   "source": [
    "backend = least_busy(provider.backends(filters=lambda b: b.configuration().n_qubits >= 3 and\n",
    "                                   not b.configuration().simulator and b.status().operational==True))\n",
    "\n",
    "print(backend)"
   ]
  },
  {
   "cell_type": "markdown",
   "id": "80483fce",
   "metadata": {},
   "source": [
    "<b> 7. Finally, we can call up readout errors and the gate map of real backend <b>"
   ]
  },
  {
   "cell_type": "code",
   "execution_count": 9,
   "id": "2e837d7f",
   "metadata": {},
   "outputs": [
    {
     "data": {
      "image/png": "[encoded data removed]",
      "text/plain": [
       "<Figure size 360x360 with 1 Axes>"
      ]
     },
     "execution_count": 9,
     "metadata": {},
     "output_type": "execute_result"
    }
   ],
   "source": [
    "# Plot gate map\n",
    "plot_gate_map(backend, plot_directed = True)"
   ]
  },
  {
   "cell_type": "code",
   "execution_count": 10,
   "id": "ff71f579",
   "metadata": {},
   "outputs": [
    {
     "data": {
      "image/png": "[encoded data removed]",
      "text/plain": [
       "<Figure size 864x648 with 5 Axes>"
      ]
     },
     "execution_count": 10,
     "metadata": {},
     "output_type": "execute_result"
    }
   ],
   "source": [
    "# Plot error map\n",
    "plot_error_map(backend)"
   ]
  },
  {
   "cell_type": "markdown",
   "id": "1dbde4c6",
   "metadata": {},
   "source": [
    "## Importing files and exporting string with QASM\n",
    "\n",
    " <b> 1. Importing:<b> `QuantumCircuit.from_qasm_file('myfile.qasm')` "
   ]
  },
  {
   "cell_type": "code",
   "execution_count": 11,
   "id": "e36091e5",
   "metadata": {},
   "outputs": [
    {
     "data": {
      "image/png": "[encoded data removed]",
      "text/plain": [
       "<Figure size 206.852x144.48 with 1 Axes>"
      ]
     },
     "execution_count": 11,
     "metadata": {},
     "output_type": "execute_result"
    }
   ],
   "source": [
    "qc_open = QuantumCircuit.from_qasm_file('myfile.qasm')\n",
    "qc_open.draw('mpl')"
   ]
  },
  {
   "cell_type": "markdown",
   "id": "0b5989c1",
   "metadata": {},
   "source": [
    " <b> 2. Exporting string with QASM  <b>\n",
    "\n",
    "* `qc.qasm()`\n",
    "* `QuantumCircuit.from_qasm_str`"
   ]
  },
  {
   "cell_type": "code",
   "execution_count": 12,
   "id": "57a1066c",
   "metadata": {},
   "outputs": [
    {
     "data": {
      "text/plain": [
       "'OPENQASM 2.0;\\ninclude \"qelib1.inc\";\\nqreg q[2];\\nh q[0];\\nh q[1];\\ns q[0];\\ns q[1];\\n'"
      ]
     },
     "execution_count": 12,
     "metadata": {},
     "output_type": "execute_result"
    }
   ],
   "source": [
    "temp = QuantumCircuit(2)\n",
    "temp.h(0)\n",
    "temp.h(1)\n",
    "temp.s(0)\n",
    "temp.s(1)\n",
    "\n",
    "qasm_str = temp.qasm() #returning a qasm string, THIS SIMPLE\n",
    "qasm_str"
   ]
  },
  {
   "cell_type": "markdown",
   "id": "54b82524",
   "metadata": {},
   "source": [
    "Just checking if both files match"
   ]
  },
  {
   "cell_type": "code",
   "execution_count": 13,
   "id": "cb6edf9d",
   "metadata": {},
   "outputs": [
    {
     "data": {
      "text/plain": [
       "True"
      ]
     },
     "execution_count": 13,
     "metadata": {},
     "output_type": "execute_result"
    }
   ],
   "source": [
    "qc_open1 = QuantumCircuit.from_qasm_str(qasm_str)\n",
    "qc_open1 == qc_open"
   ]
  },
  {
   "cell_type": "markdown",
   "id": "6012fd7e",
   "metadata": {},
   "source": [
    "## Job infos"
   ]
  },
  {
   "cell_type": "markdown",
   "id": "5686d6f5",
   "metadata": {},
   "source": [
    " <b> 1. This creates a pop up of your jobs. Look at the top left of the screen  <b>\n"
   ]
  },
  {
   "cell_type": "code",
   "execution_count": 14,
   "id": "0700613e",
   "metadata": {},
   "outputs": [
    {
     "data": {
      "application/vnd.jupyter.widget-view+json": {
       "model_id": "fea8e789bb5c44eb8a66f73544659bdc",
       "version_major": 2,
       "version_minor": 0
      },
      "text/plain": [
       "Accordion(children=(VBox(layout=Layout(max_width='710px', min_width='710px')),), layout=Layout(max_height='500…"
      ]
     },
     "metadata": {},
     "output_type": "display_data"
    },
    {
     "data": {
      "application/javascript": [
       "\n",
       "        const isLab = window['Jupyter'] === undefined;\n",
       "        const notebook = document.querySelector( isLab ? 'div.jp-Notebook' : '#site');\n",
       "        const jobWidget = document.querySelector('div.job_widget');\n",
       "        notebook.prepend(jobWidget);\n",
       "        jobWidget.style.zIndex = '999';\n",
       "        jobWidget.style.position = isLab ? 'sticky' : 'fixed';\n",
       "        jobWidget.style.boxShadow = '5px 5px 5px -3px black';\n",
       "        jobWidget.style.opacity = '0.95';\n",
       "        if (isLab) {\n",
       "            jobWidget.style.top = '0';\n",
       "            jobWidget.style.left = '0';\n",
       "        }\n",
       "        "
      ],
      "text/plain": [
       "<IPython.core.display.Javascript object>"
      ]
     },
     "metadata": {},
     "output_type": "display_data"
    }
   ],
   "source": [
    "%qiskit_job_watcher"
   ]
  },
  {
   "cell_type": "markdown",
   "id": "7d7b0e05",
   "metadata": {},
   "source": [
    " <b> 2. job status and job monitor (real time infos about your job)  <b>"
   ]
  },
  {
   "cell_type": "code",
   "execution_count": 15,
   "id": "a4261a0c",
   "metadata": {},
   "outputs": [
    {
     "name": "stderr",
     "output_type": "stream",
     "text": [
      "No classical registers in circuit \"circuit-11\", counts will be empty.\n"
     ]
    },
    {
     "name": "stdout",
     "output_type": "stream",
     "text": [
      "\r",
      "Job Status: job has successfully run\n"
     ]
    },
    {
     "data": {
      "text/plain": [
       "<JobStatus.DONE: 'job has successfully run'>"
      ]
     },
     "execution_count": 15,
     "metadata": {},
     "output_type": "execute_result"
    }
   ],
   "source": [
    "backend_sim = BasicAer.get_backend('qasm_simulator')\n",
    "job = execute(qc_open1, backend_sim, shots = 1024)\n",
    "\n",
    "job_monitor(job)\n",
    "\n",
    "# or \n",
    "\n",
    "job.status()"
   ]
  },
  {
   "cell_type": "code",
   "execution_count": null,
   "id": "3c0a3348",
   "metadata": {},
   "outputs": [],
   "source": []
  }
 ],
 "metadata": {
  "kernelspec": {
   "display_name": "Python 3 (ipykernel)",
   "language": "python",
   "name": "python3"
  },
  "language_info": {
   "codemirror_mode": {
    "name": "ipython",
    "version": 3
   },
   "file_extension": ".py",
   "mimetype": "text/x-python",
   "name": "python",
   "nbconvert_exporter": "python",
   "pygments_lexer": "ipython3",
   "version": "3.8.10"
  }
 },
 "nbformat": 4,
 "nbformat_minor": 5
}
